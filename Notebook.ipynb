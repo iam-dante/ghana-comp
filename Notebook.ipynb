{
 "cells": [
  {
   "cell_type": "code",
   "execution_count": 1,
   "metadata": {},
   "outputs": [],
   "source": [
    "import pandas as pd\n",
    "import os\n",
    "from pathlib import Path\n",
    "import shutil\n",
    "from sklearn.model_selection import train_test_split\n",
    "from sklearn.preprocessing import LabelEncoder\n",
    "from tqdm.notebook import tqdm"
   ]
  },
  {
   "cell_type": "code",
   "execution_count": 8,
   "metadata": {},
   "outputs": [
    {
     "name": "stdout",
     "output_type": "stream",
     "text": [
      "Please provide your Kaggle credentials to download this dataset. Learn more: http://bit.ly/kaggle-creds\n",
      "Your Kaggle username:Your Kaggle Key:Dataset URL: https://www.kaggle.com/datasets/ohagwucollinspatrick/ghana-crop-disease\n",
      "Downloading ghana-crop-disease.zip to ./ghana-crop-disease\n"
     ]
    },
    {
     "name": "stderr",
     "output_type": "stream",
     "text": [
      "100%|██████████| 10.4G/10.4G [05:50<00:00, 31.8MB/s]\n"
     ]
    },
    {
     "name": "stdout",
     "output_type": "stream",
     "text": [
      "\n"
     ]
    }
   ],
   "source": [
    "# Download the image dataset\n",
    "import opendatasets as od\n",
    "\n",
    "# Downloading the dataset from kaggle\n",
    "od.download(\"https://www.kaggle.com/datasets/ohagwucollinspatrick/ghana-crop-disease/data\", force=True)\n",
    "# key=cde7ecfe262cd3ad1abd4491dace0910"
   ]
  },
  {
   "cell_type": "code",
   "execution_count": null,
   "metadata": {},
   "outputs": [],
   "source": [
    "# Images directories\n",
    "# DATASET_DIR = Path('./dataset')\n",
    "# IMAGES_DIR = DATASET_DIR / 'images'\n",
    "# TRAIN_IMAGES_DIR = IMAGES_DIR / 'train'\n",
    "# VAL_IMAGES_DIR = IMAGES_DIR / 'val'\n",
    "# TEST_IMAGES_DIR = IMAGES_DIR / 'test'\n",
    "\n",
    "# Labels directories\n",
    "# LABELS_DIR = DATASET_DIR / 'labels'\n",
    "# TRAIN_LABELS_DIR = LABELS_DIR / 'train'\n",
    "# VAL_LABELS_DIR = LABELS_DIR / 'val'\n",
    "# TEST_LABELS_DIR = LABELS_DIR / 'test'"
   ]
  },
  {
   "cell_type": "code",
   "execution_count": null,
   "metadata": {},
   "outputs": [],
   "source": [
    "DATASET_PATH = \"./ghana-comp/ghana-crop-disease\"\n",
    "\n",
    "train_df = pd.read_csv(f\"{DATASET_PATH}/Train.csv\")\n",
    "test_df = pd.read_csv(f\"{DATASET_PATH}/Test.csv\")\n",
    "ss_df = pd.read_csv(f\"{DATASET_PATH}/SampleSubmission.csv\")\n"
   ]
  },
  {
   "cell_type": "code",
   "execution_count": 5,
   "metadata": {},
   "outputs": [
    {
     "name": "stdout",
     "output_type": "stream",
     "text": [
      "<class 'pandas.core.frame.DataFrame'>\n",
      "RangeIndex: 41029 entries, 0 to 41028\n",
      "Data columns (total 7 columns):\n",
      " #   Column      Non-Null Count  Dtype  \n",
      "---  ------      --------------  -----  \n",
      " 0   Image_ID    41029 non-null  object \n",
      " 1   confidence  41029 non-null  float64\n",
      " 2   class       41029 non-null  object \n",
      " 3   ymin        41029 non-null  float64\n",
      " 4   xmin        41029 non-null  float64\n",
      " 5   ymax        41029 non-null  float64\n",
      " 6   xmax        41029 non-null  float64\n",
      "dtypes: float64(5), object(2)\n",
      "memory usage: 2.2+ MB\n"
     ]
    }
   ],
   "source": [
    "train_df.info()"
   ]
  },
  {
   "cell_type": "code",
   "execution_count": null,
   "metadata": {},
   "outputs": [],
   "source": []
  }
 ],
 "metadata": {
  "kernelspec": {
   "display_name": "base",
   "language": "python",
   "name": "python3"
  },
  "language_info": {
   "codemirror_mode": {
    "name": "ipython",
    "version": 3
   },
   "file_extension": ".py",
   "mimetype": "text/x-python",
   "name": "python",
   "nbconvert_exporter": "python",
   "pygments_lexer": "ipython3",
   "version": "3.10.0"
  }
 },
 "nbformat": 4,
 "nbformat_minor": 2
}
